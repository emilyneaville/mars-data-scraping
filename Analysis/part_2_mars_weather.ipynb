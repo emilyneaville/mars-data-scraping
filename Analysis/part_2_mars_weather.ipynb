{
 "cells": [
  {
   "attachments": {},
   "cell_type": "markdown",
   "metadata": {},
   "source": [
    "# Deliverable 2: Scrape and analyze Mars weather data"
   ]
  },
  {
   "cell_type": "code",
   "execution_count": 34,
   "metadata": {},
   "outputs": [],
   "source": [
    "%matplotlib inline"
   ]
  },
  {
   "cell_type": "code",
   "execution_count": 35,
   "metadata": {},
   "outputs": [],
   "source": [
    "# Imports for web scraping\n",
    "from splinter import Browser\n",
    "from bs4 import BeautifulSoup\n",
    "\n",
    "# Imports for analysis\n",
    "import pandas as pd\n",
    "import matplotlib.pyplot as plt\n",
    "import datetime as dt"
   ]
  },
  {
   "cell_type": "code",
   "execution_count": 36,
   "metadata": {},
   "outputs": [],
   "source": [
    "# Set Chrome as default browser, visit the website, and create soup object\n",
    "browser = Browser('chrome')\n",
    "\n",
    "url = 'https://static.bc-edx.com/data/web/mars_facts/temperature.html'\n",
    "browser.visit(url)\n",
    "\n",
    "html = browser.html\n",
    "soup = BeautifulSoup(html, 'html.parser')"
   ]
  },
  {
   "cell_type": "code",
   "execution_count": 37,
   "metadata": {},
   "outputs": [],
   "source": [
    "# Find and scrape the table and the table rows from he website using BeautifulSoup\n",
    "table = soup.find('table', class_= 'table')\n",
    "\n",
    "# All rows after the header row are assigned the 'data-row' class\n",
    "rows = table.find_all('tr', class_= 'data-row')"
   ]
  },
  {
   "cell_type": "code",
   "execution_count": null,
   "metadata": {},
   "outputs": [],
   "source": [
    "# Need to loop through each row to extract the data from it and turn it into a dictionary: \n",
    "# id, terrestrial_date, sol, ls, month, min_temp, pressure\n",
    "# Create an empty list to store the dicts\n",
    "\n",
    "mars_temp = []\n",
    "\n",
    "for row in rows:\n",
    "    id = row.find_all('td')[0].text\n",
    "    terrestrial_date = row.find_all('td')[1].text\n",
    "    sol = row.find_all('td')[2].text\n",
    "    ls = row.find_all('td')[3].text\n",
    "    month = row.find_all('td')[4].text\n",
    "    min_temp = row.find_all('td')[5].text\n",
    "    pressure = row.find_all('td')[6].text\n",
    "    \n",
    "    mars_temp.append({\n",
    "        'id': id,\n",
    "        'terrestrial_date': terrestrial_date,\n",
    "        'sol': sol,\n",
    "        'ls': ls,\n",
    "        'month': month,\n",
    "        'min_temp': min_temp,\n",
    "        'pressure': pressure\n",
    "    })\n",
    "\n",
    "mars_temp"
   ]
  },
  {
   "cell_type": "code",
   "execution_count": 39,
   "metadata": {},
   "outputs": [
    {
     "data": {
      "text/html": [
       "<div>\n",
       "<style scoped>\n",
       "    .dataframe tbody tr th:only-of-type {\n",
       "        vertical-align: middle;\n",
       "    }\n",
       "\n",
       "    .dataframe tbody tr th {\n",
       "        vertical-align: top;\n",
       "    }\n",
       "\n",
       "    .dataframe thead th {\n",
       "        text-align: right;\n",
       "    }\n",
       "</style>\n",
       "<table border=\"1\" class=\"dataframe\">\n",
       "  <thead>\n",
       "    <tr style=\"text-align: right;\">\n",
       "      <th></th>\n",
       "      <th>id</th>\n",
       "      <th>terrestrial_date</th>\n",
       "      <th>sol</th>\n",
       "      <th>ls</th>\n",
       "      <th>month</th>\n",
       "      <th>min_temp</th>\n",
       "      <th>pressure</th>\n",
       "    </tr>\n",
       "  </thead>\n",
       "  <tbody>\n",
       "    <tr>\n",
       "      <th>0</th>\n",
       "      <td>2</td>\n",
       "      <td>2012-08-16</td>\n",
       "      <td>10</td>\n",
       "      <td>155</td>\n",
       "      <td>6</td>\n",
       "      <td>-75.0</td>\n",
       "      <td>739.0</td>\n",
       "    </tr>\n",
       "    <tr>\n",
       "      <th>1</th>\n",
       "      <td>13</td>\n",
       "      <td>2012-08-17</td>\n",
       "      <td>11</td>\n",
       "      <td>156</td>\n",
       "      <td>6</td>\n",
       "      <td>-76.0</td>\n",
       "      <td>740.0</td>\n",
       "    </tr>\n",
       "    <tr>\n",
       "      <th>2</th>\n",
       "      <td>24</td>\n",
       "      <td>2012-08-18</td>\n",
       "      <td>12</td>\n",
       "      <td>156</td>\n",
       "      <td>6</td>\n",
       "      <td>-76.0</td>\n",
       "      <td>741.0</td>\n",
       "    </tr>\n",
       "    <tr>\n",
       "      <th>3</th>\n",
       "      <td>35</td>\n",
       "      <td>2012-08-19</td>\n",
       "      <td>13</td>\n",
       "      <td>157</td>\n",
       "      <td>6</td>\n",
       "      <td>-74.0</td>\n",
       "      <td>732.0</td>\n",
       "    </tr>\n",
       "    <tr>\n",
       "      <th>4</th>\n",
       "      <td>46</td>\n",
       "      <td>2012-08-20</td>\n",
       "      <td>14</td>\n",
       "      <td>157</td>\n",
       "      <td>6</td>\n",
       "      <td>-74.0</td>\n",
       "      <td>740.0</td>\n",
       "    </tr>\n",
       "    <tr>\n",
       "      <th>...</th>\n",
       "      <td>...</td>\n",
       "      <td>...</td>\n",
       "      <td>...</td>\n",
       "      <td>...</td>\n",
       "      <td>...</td>\n",
       "      <td>...</td>\n",
       "      <td>...</td>\n",
       "    </tr>\n",
       "    <tr>\n",
       "      <th>1862</th>\n",
       "      <td>1889</td>\n",
       "      <td>2018-02-23</td>\n",
       "      <td>1973</td>\n",
       "      <td>133</td>\n",
       "      <td>5</td>\n",
       "      <td>-78.0</td>\n",
       "      <td>730.0</td>\n",
       "    </tr>\n",
       "    <tr>\n",
       "      <th>1863</th>\n",
       "      <td>1892</td>\n",
       "      <td>2018-02-24</td>\n",
       "      <td>1974</td>\n",
       "      <td>134</td>\n",
       "      <td>5</td>\n",
       "      <td>-77.0</td>\n",
       "      <td>729.0</td>\n",
       "    </tr>\n",
       "    <tr>\n",
       "      <th>1864</th>\n",
       "      <td>1894</td>\n",
       "      <td>2018-02-25</td>\n",
       "      <td>1975</td>\n",
       "      <td>134</td>\n",
       "      <td>5</td>\n",
       "      <td>-76.0</td>\n",
       "      <td>729.0</td>\n",
       "    </tr>\n",
       "    <tr>\n",
       "      <th>1865</th>\n",
       "      <td>1893</td>\n",
       "      <td>2018-02-26</td>\n",
       "      <td>1976</td>\n",
       "      <td>135</td>\n",
       "      <td>5</td>\n",
       "      <td>-77.0</td>\n",
       "      <td>728.0</td>\n",
       "    </tr>\n",
       "    <tr>\n",
       "      <th>1866</th>\n",
       "      <td>1895</td>\n",
       "      <td>2018-02-27</td>\n",
       "      <td>1977</td>\n",
       "      <td>135</td>\n",
       "      <td>5</td>\n",
       "      <td>-77.0</td>\n",
       "      <td>727.0</td>\n",
       "    </tr>\n",
       "  </tbody>\n",
       "</table>\n",
       "<p>1867 rows × 7 columns</p>\n",
       "</div>"
      ],
      "text/plain": [
       "        id terrestrial_date   sol   ls month min_temp pressure\n",
       "0        2       2012-08-16    10  155     6    -75.0    739.0\n",
       "1       13       2012-08-17    11  156     6    -76.0    740.0\n",
       "2       24       2012-08-18    12  156     6    -76.0    741.0\n",
       "3       35       2012-08-19    13  157     6    -74.0    732.0\n",
       "4       46       2012-08-20    14  157     6    -74.0    740.0\n",
       "...    ...              ...   ...  ...   ...      ...      ...\n",
       "1862  1889       2018-02-23  1973  133     5    -78.0    730.0\n",
       "1863  1892       2018-02-24  1974  134     5    -77.0    729.0\n",
       "1864  1894       2018-02-25  1975  134     5    -76.0    729.0\n",
       "1865  1893       2018-02-26  1976  135     5    -77.0    728.0\n",
       "1866  1895       2018-02-27  1977  135     5    -77.0    727.0\n",
       "\n",
       "[1867 rows x 7 columns]"
      ]
     },
     "execution_count": 39,
     "metadata": {},
     "output_type": "execute_result"
    }
   ],
   "source": [
    "# Assemble into Pandas dataframe\n",
    "# Headers should be: id, terrestrial_date, sol, ls, month, min_temp, pressure\n",
    "mars_df = pd.DataFrame.from_records(mars_temp)\n",
    "\n",
    "# Confirm dataframe was made successfully with correct shape and headers\n",
    "mars_df"
   ]
  },
  {
   "cell_type": "code",
   "execution_count": 40,
   "metadata": {},
   "outputs": [
    {
     "data": {
      "text/plain": [
       "id                  object\n",
       "terrestrial_date    object\n",
       "sol                 object\n",
       "ls                  object\n",
       "month               object\n",
       "min_temp            object\n",
       "pressure            object\n",
       "dtype: object"
      ]
     },
     "execution_count": 40,
     "metadata": {},
     "output_type": "execute_result"
    }
   ],
   "source": [
    "# Examine the data type of each column\n",
    "mars_df.dtypes"
   ]
  },
  {
   "cell_type": "code",
   "execution_count": 41,
   "metadata": {},
   "outputs": [
    {
     "data": {
      "text/plain": [
       "id                           int64\n",
       "terrestrial_date    datetime64[ns]\n",
       "sol                          int64\n",
       "ls                           int64\n",
       "month                        int64\n",
       "min_temp                   float64\n",
       "pressure                   float64\n",
       "dtype: object"
      ]
     },
     "execution_count": 41,
     "metadata": {},
     "output_type": "execute_result"
    }
   ],
   "source": [
    "# Change data types for analysis\n",
    "mars_df[['id', 'sol', 'ls', 'month']] = mars_df[['id', 'sol', 'ls', 'month']].astype(int)\n",
    "mars_df['terrestrial_date'] = pd.to_datetime(mars_df['terrestrial_date'])\n",
    "mars_df[['min_temp', 'pressure']] = mars_df[['min_temp', 'pressure']].astype(float)\n",
    "\n",
    "# Confirm succesful change\n",
    "mars_df.dtypes"
   ]
  },
  {
   "cell_type": "code",
   "execution_count": 42,
   "metadata": {},
   "outputs": [
    {
     "name": "stdout",
     "output_type": "stream",
     "text": [
      "According to the data we have, there are 12 martian months.\n"
     ]
    }
   ],
   "source": [
    "# How many months exist on mars?\n",
    "# Cannot calculate how many months exist based on terrestrial date...\n",
    "# Must go based off dataset... find max value of the martian month\n",
    "mars_months = mars_df['month'].max()\n",
    "\n",
    "print(f'According to the data we have, there are {mars_months} martian months.')"
   ]
  },
  {
   "cell_type": "code",
   "execution_count": 43,
   "metadata": {},
   "outputs": [
    {
     "name": "stdout",
     "output_type": "stream",
     "text": [
      "We have 1867 martian days' worth of data in our dataset\n"
     ]
    }
   ],
   "source": [
    "# How many martian days' worth of data are there?\n",
    "# .count() will just count how many total records there are...\n",
    "# but what if there are multiple records for a single day?\n",
    "# we want the count of unique sols there are in the dataset\n",
    "martian_days = len(mars_df['sol'].unique())\n",
    "print(f\"We have {martian_days} martian days' worth of data in our dataset\")"
   ]
  },
  {
   "cell_type": "code",
   "execution_count": 51,
   "metadata": {},
   "outputs": [
    {
     "data": {
      "image/png": "[encoded data removed]",
      "text/plain": [
       "<Figure size 640x480 with 1 Axes>"
      ]
     },
     "metadata": {},
     "output_type": "display_data"
    }
   ],
   "source": [
    "# Plot the average temperature by month\n",
    "# create new dataframe with only months and and min_temp sorted by month acsending\n",
    "# Group mars_df by month, find average of min_temp by each month\n",
    "avgtemp_df = mars_df[['month', 'min_temp']].groupby(['month']).mean()\n",
    "\n",
    "# Plot results\n",
    "plt.plot(avgtemp_df, color= 'red')\n",
    "plt.title('Average temperature (F) by martian month')\n",
    "plt.xlabel('Martian Month')\n",
    "plt.ylabel('Temperature (F)')\n",
    "plt.grid(True)\n",
    "\n",
    "# Save the figure to Figure Outputs\n",
    "plt.savefig('figure_outputs/avg_temp.png', bbox_inches='tight')"
   ]
  },
  {
   "cell_type": "code",
   "execution_count": 45,
   "metadata": {},
   "outputs": [
    {
     "name": "stdout",
     "output_type": "stream",
     "text": [
      "The coldest month on Mars is month 3 with an average temperature of -83.3073.\n",
      "The hottest month on Mars is month 8 with an average temperature of -68.383.\n"
     ]
    }
   ],
   "source": [
    "# Identify the coldest and hottest months in Curiosity's location\n",
    "# Grab hottest month AND hottest temp from avgtemp_df\n",
    "hottest_month = avgtemp_df['min_temp'].idxmax()\n",
    "hottest_temp = avgtemp_df['min_temp'].max()\n",
    "\n",
    "# Grab coldest month AND coldest temp from avgtemp_df\n",
    "coldest_month = avgtemp_df['min_temp'].idxmin()\n",
    "coldest_temp = avgtemp_df['min_temp'].min()\n",
    "\n",
    "print(f'The coldest month on Mars is month {coldest_month} with an average temperature of {float(round(coldest_temp, 4))}.')\n",
    "print(f'The hottest month on Mars is month {hottest_month} with an average temperature of {float(round(hottest_temp, 4))}.')"
   ]
  },
  {
   "cell_type": "code",
   "execution_count": 50,
   "metadata": {},
   "outputs": [
    {
     "data": {
      "image/png": "[encoded data removed]",
      "text/plain": [
       "<Figure size 640x480 with 1 Axes>"
      ]
     },
     "metadata": {},
     "output_type": "display_data"
    }
   ],
   "source": [
    "# 4. Average pressure by Martian month\n",
    "avgpressure_df = mars_df[['month', 'pressure']].sort_values(['month'])\n",
    "\n",
    "# .groupby month, find average of pressure by each month\n",
    "avgpressure_df = avgpressure_df.groupby(['month']).mean()\n",
    "\n",
    "# Plot results\n",
    "plt.plot(avgpressure_df)\n",
    "plt.title('Average pressure by martian month')\n",
    "plt.xlabel('Martian Month')\n",
    "plt.ylabel('Pressure')\n",
    "plt.grid(True)\n",
    "\n",
    "# Save the figure to Figure Outputs\n",
    "plt.savefig('figure_outputs/avg_pressure.png', bbox_inches='tight')"
   ]
  },
  {
   "cell_type": "code",
   "execution_count": 47,
   "metadata": {},
   "outputs": [
    {
     "name": "stdout",
     "output_type": "stream",
     "text": [
      "The month with the highest pressure on Mars is month 9 with an average pressure of 913.306.\n",
      "The month with the lowest pressure on Mars is month 6 with an average pressure of 745.0544.\n"
     ]
    }
   ],
   "source": [
    "# Identify high and low pressure months in Curiosity's location\n",
    "# Grab highest pressure month AND highest pressure from avgpressure_df\n",
    "high_pressure_month = avgpressure_df['pressure'].idxmax()\n",
    "high_pressure = avgpressure_df['pressure'].max()\n",
    "\n",
    "# Grab lowest pressure month AND lowest pressure from avgpressure_df\n",
    "low_pressure_month = avgpressure_df['pressure'].idxmin()\n",
    "low_pressure = avgpressure_df['pressure'].min()\n",
    "\n",
    "print(f'The month with the highest pressure on Mars is month {high_pressure_month} with an average pressure of {float(round(high_pressure, 4))}.')\n",
    "print(f'The month with the lowest pressure on Mars is month {low_pressure_month} with an average pressure of {float(round(low_pressure, 4))}.')"
   ]
  },
  {
   "cell_type": "code",
   "execution_count": 48,
   "metadata": {},
   "outputs": [],
   "source": [
    "browser.quit()"
   ]
  }
 ],
 "metadata": {
  "kernelspec": {
   "display_name": "PythonData",
   "language": "python",
   "name": "python3"
  },
  "language_info": {
   "codemirror_mode": {
    "name": "ipython",
    "version": 3
   },
   "file_extension": ".py",
   "mimetype": "text/x-python",
   "name": "python",
   "nbconvert_exporter": "python",
   "pygments_lexer": "ipython3",
   "version": "3.7.16"
  },
  "orig_nbformat": 4
 },
 "nbformat": 4,
 "nbformat_minor": 2
}
